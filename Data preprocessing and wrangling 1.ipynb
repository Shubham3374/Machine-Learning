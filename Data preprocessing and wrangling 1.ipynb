{
 "cells": [
  {
   "cell_type": "code",
   "execution_count": null,
   "id": "026a00af",
   "metadata": {},
   "outputs": [],
   "source": [
    "# Removing NA Values "
   ]
  },
  {
   "cell_type": "code",
   "execution_count": 1,
   "id": "f7043639",
   "metadata": {},
   "outputs": [],
   "source": [
    "import pandas as pd\n",
    "import numpy as np "
   ]
  },
  {
   "cell_type": "code",
   "execution_count": 2,
   "id": "cd1d514a",
   "metadata": {},
   "outputs": [],
   "source": [
    "d1 = {'Name' : ['Pankaj' , 'Meghana' , 'David' , 'Lisa'],\n",
    "     'ID' : [1,2,3,4] , \n",
    "     'Salary' : [100 , 200 , np.nan , pd.NaT] ,\n",
    "     'Role' : ['CEO' , None , np.nan , pd.NaT]}"
   ]
  },
  {
   "cell_type": "code",
   "execution_count": 3,
   "id": "7016dc30",
   "metadata": {},
   "outputs": [
    {
     "name": "stdout",
     "output_type": "stream",
     "text": [
      "Actual Dataframe :\n",
      "       Name  ID Salary  Role\n",
      "0   Pankaj   1    100   CEO\n",
      "1  Meghana   2    200  None\n",
      "2    David   3    NaN   NaN\n",
      "3     Lisa   4    NaT   NaT\n"
     ]
    }
   ],
   "source": [
    "df = pd.DataFrame(d1)\n",
    "print('Actual Dataframe :\\n', df)"
   ]
  },
  {
   "cell_type": "code",
   "execution_count": 4,
   "id": "cd800cba",
   "metadata": {},
   "outputs": [
    {
     "name": "stdout",
     "output_type": "stream",
     "text": [
      "Processed data frame:\n",
      "      Name  ID Salary Role\n",
      "0  Pankaj   1    100  CEO\n"
     ]
    }
   ],
   "source": [
    "# Drop all rows with any null values :\n",
    "\n",
    "\n",
    "df1 = df.dropna(how = 'any')\n",
    "\n",
    "print('Processed data frame:\\n',df1)"
   ]
  },
  {
   "cell_type": "code",
   "execution_count": 5,
   "id": "41d77757",
   "metadata": {},
   "outputs": [
    {
     "name": "stdout",
     "output_type": "stream",
     "text": [
      "     Name  ID Salary Role\n",
      "0  Pankaj   1    100  CEO\n"
     ]
    }
   ],
   "source": [
    "df.dropna(how = 'any' , inplace = True)\n",
    "print(df)\n"
   ]
  },
  {
   "cell_type": "code",
   "execution_count": 6,
   "id": "c0081aab",
   "metadata": {},
   "outputs": [
    {
     "name": "stdout",
     "output_type": "stream",
     "text": [
      "Actual Dataframe :\n",
      "       Name   ID Salary Role\n",
      "0   Pankaj  1.0    100  NaT\n",
      "1  Meghana  2.0    200  NaT\n",
      "2    David  3.0    NaN  NaT\n",
      "3      NaT  NaN    NaT  NaT\n",
      "Processed data frame 1:\n",
      "       Name   ID Salary Role\n",
      "0   Pankaj  1.0    100  NaT\n",
      "1  Meghana  2.0    200  NaT\n",
      "2    David  3.0    NaN  NaT\n",
      "Processed data frame 2:\n",
      "       Name   ID Salary\n",
      "0   Pankaj  1.0    100\n",
      "1  Meghana  2.0    200\n",
      "2    David  3.0    NaN\n",
      "3      NaT  NaN    NaT\n"
     ]
    }
   ],
   "source": [
    "d1 = {'Name' : ['Pankaj' , 'Meghana' , 'David' , pd.NaT],\n",
    "     'ID' : [1,2,3,np.nan] , \n",
    "     'Salary' : [100 , 200 , np.nan , pd.NaT] ,\n",
    "     'Role' : [None , None , np.nan , pd.NaT]}\n",
    "\n",
    "df = pd.DataFrame(d1)\n",
    "print('Actual Dataframe :\\n', df)\n",
    "\n",
    "# drop rows\n",
    "\n",
    "df1 = df.dropna(how = 'all' )\n",
    "print('Processed data frame 1:\\n',df1)\n",
    "\n",
    "df1 = df.dropna(how = 'all' , axis = 1)\n",
    "print('Processed data frame 2:\\n',df1)"
   ]
  },
  {
   "cell_type": "code",
   "execution_count": 7,
   "id": "e44ba831",
   "metadata": {},
   "outputs": [
    {
     "name": "stdout",
     "output_type": "stream",
     "text": [
      "Actual Dataframe :\n",
      "       Name  ID Salary Role\n",
      "0   Pankaj   1    100  CEO\n",
      "1  Meghana   2    200  CTO\n",
      "2    David   3    NaN  CPO\n",
      "3     Lisa   4    NaT  CIO\n"
     ]
    }
   ],
   "source": [
    "# Imputing null NA values\n",
    "\n",
    "d1 = {'Name' : ['Pankaj' , 'Meghana' , 'David' , 'Lisa'],\n",
    "     'ID' : [1,2,3,4] , \n",
    "     'Salary' : [100 , 200 , np.nan , pd.NaT] ,\n",
    "     'Role' : ['CEO' , 'CTO' , 'CPO' , 'CIO']}\n",
    "\n",
    "df = pd.DataFrame(d1)\n",
    "print('Actual Dataframe :\\n', df)"
   ]
  },
  {
   "cell_type": "code",
   "execution_count": 8,
   "id": "c9f78c28",
   "metadata": {},
   "outputs": [
    {
     "data": {
      "text/plain": [
       "Name      0\n",
       "ID        0\n",
       "Salary    2\n",
       "Role      0\n",
       "dtype: int64"
      ]
     },
     "execution_count": 8,
     "metadata": {},
     "output_type": "execute_result"
    }
   ],
   "source": [
    "# Getting count of Null Vlaue across all columns \n",
    "\n",
    "df.isnull().sum()\n"
   ]
  },
  {
   "cell_type": "markdown",
   "id": "5e590289",
   "metadata": {},
   "source": [
    "IMPUTING EXAMPLE :"
   ]
  },
  {
   "cell_type": "code",
   "execution_count": 9,
   "id": "48923495",
   "metadata": {},
   "outputs": [
    {
     "data": {
      "text/html": [
       "<div>\n",
       "<style scoped>\n",
       "    .dataframe tbody tr th:only-of-type {\n",
       "        vertical-align: middle;\n",
       "    }\n",
       "\n",
       "    .dataframe tbody tr th {\n",
       "        vertical-align: top;\n",
       "    }\n",
       "\n",
       "    .dataframe thead th {\n",
       "        text-align: right;\n",
       "    }\n",
       "</style>\n",
       "<table border=\"1\" class=\"dataframe\">\n",
       "  <thead>\n",
       "    <tr style=\"text-align: right;\">\n",
       "      <th></th>\n",
       "      <th>Name</th>\n",
       "      <th>ID</th>\n",
       "      <th>Salary</th>\n",
       "      <th>Role</th>\n",
       "    </tr>\n",
       "  </thead>\n",
       "  <tbody>\n",
       "    <tr>\n",
       "      <th>0</th>\n",
       "      <td>Pankaj</td>\n",
       "      <td>1</td>\n",
       "      <td>100.0</td>\n",
       "      <td>CEO</td>\n",
       "    </tr>\n",
       "    <tr>\n",
       "      <th>1</th>\n",
       "      <td>Meghana</td>\n",
       "      <td>2</td>\n",
       "      <td>200.0</td>\n",
       "      <td>CTO</td>\n",
       "    </tr>\n",
       "    <tr>\n",
       "      <th>2</th>\n",
       "      <td>David</td>\n",
       "      <td>3</td>\n",
       "      <td>150.0</td>\n",
       "      <td>CPO</td>\n",
       "    </tr>\n",
       "    <tr>\n",
       "      <th>3</th>\n",
       "      <td>Lisa</td>\n",
       "      <td>4</td>\n",
       "      <td>150.0</td>\n",
       "      <td>CIO</td>\n",
       "    </tr>\n",
       "  </tbody>\n",
       "</table>\n",
       "</div>"
      ],
      "text/plain": [
       "      Name  ID  Salary Role\n",
       "0   Pankaj   1   100.0  CEO\n",
       "1  Meghana   2   200.0  CTO\n",
       "2    David   3   150.0  CPO\n",
       "3     Lisa   4   150.0  CIO"
      ]
     },
     "execution_count": 9,
     "metadata": {},
     "output_type": "execute_result"
    }
   ],
   "source": [
    "df['Salary'] = df['Salary'].fillna(df['Salary'].mean())\n",
    "df.head()"
   ]
  },
  {
   "cell_type": "code",
   "execution_count": 10,
   "id": "27ece554",
   "metadata": {},
   "outputs": [
    {
     "data": {
      "text/plain": [
       "Name      0\n",
       "ID        0\n",
       "Salary    0\n",
       "Role      0\n",
       "dtype: int64"
      ]
     },
     "execution_count": 10,
     "metadata": {},
     "output_type": "execute_result"
    }
   ],
   "source": [
    "df.isnull().sum()"
   ]
  },
  {
   "cell_type": "code",
   "execution_count": 11,
   "id": "5328592b",
   "metadata": {},
   "outputs": [],
   "source": [
    "# Min max Scaler\n",
    "\n",
    "from numpy import asarray\n",
    "from sklearn.preprocessing import MinMaxScaler"
   ]
  },
  {
   "cell_type": "code",
   "execution_count": 12,
   "id": "e49013ea",
   "metadata": {},
   "outputs": [
    {
     "name": "stdout",
     "output_type": "stream",
     "text": [
      "Actual Data :\n",
      "  [[1.0e+02 1.0e-03]\n",
      " [8.0e+00 5.0e-02]\n",
      " [5.0e+01 5.0e-03]\n",
      " [8.8e+01 7.0e-02]\n",
      " [4.0e+00 1.0e-01]]\n"
     ]
    }
   ],
   "source": [
    "# Define the Data\n",
    "\n",
    "data = asarray([[100, 0.001],\n",
    "               [8, 0.05],\n",
    "               [50, 0.005],\n",
    "               [88, 0.07],\n",
    "               [4, 0.1]])\n",
    "\n",
    "print('Actual Data :\\n ', data)"
   ]
  },
  {
   "cell_type": "code",
   "execution_count": 13,
   "id": "97633a82",
   "metadata": {},
   "outputs": [
    {
     "name": "stdout",
     "output_type": "stream",
     "text": [
      "Scaled output :\n",
      "  [[1.         0.        ]\n",
      " [0.04166667 0.49494949]\n",
      " [0.47916667 0.04040404]\n",
      " [0.875      0.6969697 ]\n",
      " [0.         1.        ]]\n"
     ]
    }
   ],
   "source": [
    "# Define Min Max Scaler:\n",
    "\n",
    "scaler = MinMaxScaler()\n",
    "\n",
    "# Transform the data\n",
    "\n",
    "scaled = scaler.fit_transform(data)\n",
    "\n",
    "print('Scaled output :\\n ', scaled)"
   ]
  },
  {
   "cell_type": "code",
   "execution_count": 1,
   "id": "8f1a7674",
   "metadata": {},
   "outputs": [
    {
     "name": "stdout",
     "output_type": "stream",
     "text": [
      "Actual Data :\n",
      "  [[1.0e+02 1.0e-03]\n",
      " [8.0e+00 5.0e-02]\n",
      " [5.0e+01 5.0e-03]\n",
      " [8.8e+01 7.0e-02]\n",
      " [4.0e+00 1.0e-01]]\n",
      "Scaled output :\n",
      "  [[ 1.26398112 -1.16389967]\n",
      " [-1.06174414  0.12639634]\n",
      " [ 0.         -1.05856939]\n",
      " [ 0.96062565  0.65304778]\n",
      " [-1.16286263  1.44302493]]\n"
     ]
    }
   ],
   "source": [
    "# Standard Scaler\n",
    "\n",
    "from numpy import asarray\n",
    "from sklearn.preprocessing import StandardScaler\n",
    "\n",
    "#define the data\n",
    "\n",
    "data = asarray([[100,0.001],\n",
    "               [8,0.05],\n",
    "               [50,0.005],\n",
    "               [88,0.07],\n",
    "               [4,0.1]])\n",
    "\n",
    "print('Actual Data :\\n ', data)\n",
    "\n",
    "# Define Standard Scaler :\n",
    "\n",
    "scaler = StandardScaler()\n",
    "\n",
    "# Transform the data :\n",
    "\n",
    "scaled = scaler.fit_transform(data)\n",
    "\n",
    "print('Scaled output :\\n ', scaled)"
   ]
  },
  {
   "cell_type": "code",
   "execution_count": null,
   "id": "2290715a",
   "metadata": {},
   "outputs": [],
   "source": []
  }
 ],
 "metadata": {
  "kernelspec": {
   "display_name": "Python 3 (ipykernel)",
   "language": "python",
   "name": "python3"
  },
  "language_info": {
   "codemirror_mode": {
    "name": "ipython",
    "version": 3
   },
   "file_extension": ".py",
   "mimetype": "text/x-python",
   "name": "python",
   "nbconvert_exporter": "python",
   "pygments_lexer": "ipython3",
   "version": "3.9.13"
  }
 },
 "nbformat": 4,
 "nbformat_minor": 5
}
